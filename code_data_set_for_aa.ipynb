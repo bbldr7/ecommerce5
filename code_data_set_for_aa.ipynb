{
 "cells": [
  {
   "cell_type": "markdown",
   "metadata": {},
   "source": [
    "### 연관성 분석을 위한 데이터셋 만들기"
   ]
  },
  {
   "cell_type": "code",
   "execution_count": null,
   "metadata": {},
   "outputs": [],
   "source": [
    "import pandas as pd\n",
    "import numpy as np"
   ]
  },
  {
   "cell_type": "code",
   "execution_count": null,
   "metadata": {},
   "outputs": [],
   "source": [
    "# 병합할 파일 불러오기"
   ]
  },
  {
   "cell_type": "code",
   "execution_count": null,
   "metadata": {},
   "outputs": [],
   "source": [
    "opp = pd.read_csv('order_products__prior.csv', usecols=['order_id','product_id','reordered'])\n",
    "opp.head()"
   ]
  },
  {
   "cell_type": "code",
   "execution_count": null,
   "metadata": {},
   "outputs": [],
   "source": [
    "orders = pd.read_csv('orders.csv', usecols=['order_id', 'user_id'])\n",
    "orders.head()"
   ]
  },
  {
   "cell_type": "code",
   "execution_count": null,
   "metadata": {},
   "outputs": [],
   "source": [
    "pdt = pd.read_csv('products.csv')\n",
    "pdt.head()"
   ]
  },
  {
   "cell_type": "code",
   "execution_count": null,
   "metadata": {},
   "outputs": [],
   "source": [
    "aisles = pd.read_csv('aisles.csv')\n",
    "dpt = pd.read_csv('departments.csv')\n",
    "aisles.head()"
   ]
  },
  {
   "cell_type": "code",
   "execution_count": null,
   "metadata": {},
   "outputs": [],
   "source": [
    "# 1) opp 에 orders 병합\n",
    "\n",
    "df1 = pd.merge(opp, orders, on='order_id', how='left')\n",
    "df1.head()"
   ]
  },
  {
   "cell_type": "code",
   "execution_count": null,
   "metadata": {},
   "outputs": [],
   "source": [
    "# 2) df1과 pdt 병합\n",
    "\n",
    "df2 = pd.merge(df1, pdt, on='product_id', how='left')\n",
    "df2.head()"
   ]
  },
  {
   "cell_type": "code",
   "execution_count": null,
   "metadata": {},
   "outputs": [],
   "source": [
    "# 3) df2과 aisles 병합\n",
    "\n",
    "df3 = pd.merge(df2, aisles, on='aisle_id', how='left')\n",
    "df3.head()"
   ]
  },
  {
   "cell_type": "code",
   "execution_count": null,
   "metadata": {},
   "outputs": [],
   "source": [
    "# 4) df3과 dpt 병합\n",
    "\n",
    "df4 = pd.merge(df3, dpt, on='department_id', how='left')\n",
    "df4.head()"
   ]
  },
  {
   "cell_type": "code",
   "execution_count": null,
   "metadata": {},
   "outputs": [],
   "source": [
    "# 5) 'is_organic' 컬럼 만들기\n",
    "df5 = df4.copy()\n",
    "\n",
    "df5['is_organic'] = df5['product_name'].str.contains('Organic') == 1\n",
    "df5['is_organic'].value_counts()"
   ]
  },
  {
   "cell_type": "code",
   "execution_count": null,
   "metadata": {},
   "outputs": [],
   "source": [
    "# 예진님 파일과 is_organic 갯수 비교\n",
    "\n",
    "mop = pd.read_csv('merge_organic_prior.csv')\n",
    "mop['is_organic'].value_counts()"
   ]
  },
  {
   "cell_type": "code",
   "execution_count": null,
   "metadata": {},
   "outputs": [],
   "source": [
    "# 6) 컬럼 순서바꾸기\n",
    "\n",
    "df5.columns\n",
    "\n",
    "# 6-1) 순서 바꾸고 df에 저장하기\n",
    "df= df5[['user_id','order_id', 'product_id','product_name', 'aisle_id', 'aisle', 'department_id','department','reordered', 'is_organic']]"
   ]
  },
  {
   "cell_type": "code",
   "execution_count": null,
   "metadata": {},
   "outputs": [],
   "source": []
  }
 ],
 "metadata": {
  "kernelspec": {
   "display_name": "base",
   "language": "python",
   "name": "python3"
  },
  "language_info": {
   "name": "python",
   "version": "3.11.7"
  }
 },
 "nbformat": 4,
 "nbformat_minor": 2
}
